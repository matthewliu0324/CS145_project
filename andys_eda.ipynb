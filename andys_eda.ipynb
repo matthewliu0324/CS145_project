{
 "cells": [
  {
   "cell_type": "markdown",
   "metadata": {},
   "source": [
    "<!-- ---\n",
    "title: Exploratory Data Analysis\n",
    "author: Andy Wang\n",
    "date: Thu May 23 2024\n",
    "--- -->\n",
    "\n",
    "# Exploratory Data Analysis\n",
    "\n",
    "Andy Wang"
   ]
  },
  {
   "cell_type": "code",
   "execution_count": 1,
   "metadata": {},
   "outputs": [],
   "source": [
    "import json\n",
    "import codecs"
   ]
  },
  {
   "cell_type": "code",
   "execution_count": 2,
   "metadata": {},
   "outputs": [],
   "source": [
    "def load_data(path: str) -> dict:\n",
    "    with codecs.open(path, 'r', encoding='utf-8') as f:\n",
    "        return json.load(f)"
   ]
  },
  {
   "cell_type": "markdown",
   "metadata": {},
   "source": [
    "## Authors File\n",
    "\n",
    "`train_author.json`"
   ]
  },
  {
   "cell_type": "code",
   "execution_count": 3,
   "metadata": {},
   "outputs": [],
   "source": [
    "authors_path: str = 'IND-WhoIsWho/train_author.json'\n",
    "\n",
    "authors: dict = load_data(authors_path)"
   ]
  },
  {
   "cell_type": "markdown",
   "metadata": {},
   "source": [
    "### Data structure\n",
    "\n",
    "#### Overall structure\n",
    "\n",
    "```Python\n",
    "dict[\n",
    "    \"id\": dict[                     # ID (unique) of author\n",
    "        \"name\": str,                # name (nonunique) of author\n",
    "        \"normal_data\": list[str],   # list of correct paper IDs\n",
    "        \"outliers\": list[str]       # list of incorrectly assigned paper IDs\n",
    "    ]\n",
    "]\n",
    "```\n",
    "\n",
    "<!-- #### Example entry\n",
    "\n",
    "```Python\n",
    "{\n",
    "    ...\n",
    "    \"45gaRs0B\": {\n",
    "            \"name\": \"yang li\",\n",
    "            \"normal_data\": [\n",
    "                \"Hts2FXLD\",\n",
    "                ...\n",
    "                \"hj7IUi8b\"\n",
    "            ],\n",
    "            \"outliers\": [\n",
    "                \"j0LSaMj6\",\n",
    "                ...\n",
    "                \"oFylyNXI\"\n",
    "            ]\n",
    "    },\n",
    "    ...\n",
    "}\n",
    "``` -->"
   ]
  },
  {
   "cell_type": "code",
   "execution_count": 4,
   "metadata": {},
   "outputs": [
    {
     "name": "stdout",
     "output_type": "stream",
     "text": [
      "Number of unique IDs: 779\n",
      "Number of unique Names: 756\n",
      "Number of unique Papers: 145023\n"
     ]
    }
   ],
   "source": [
    "id_set = set()\n",
    "name_set = set()\n",
    "paper_set = set()\n",
    "\n",
    "for author_id, data in authors.items():\n",
    "    id_set.add(author_id)\n",
    "    name_set.add(data.get('name'))\n",
    "    for valid_paper in data.get('normal_data'):\n",
    "        paper_set.add(valid_paper)\n",
    "    for outlier_paper in data.get('outliers'):\n",
    "        paper_set.add(outlier_paper)\n",
    "\n",
    "print(\n",
    "    f'Number of unique IDs: {len(id_set)}',\n",
    "    f'Number of unique Names: {len(name_set)}',\n",
    "    f'Number of unique Papers: {len(paper_set)}',\n",
    "    sep='\\n'\n",
    ")"
   ]
  },
  {
   "cell_type": "markdown",
   "metadata": {},
   "source": [
    "From the counts we see that 779 - 756 = 23 names are not unique."
   ]
  },
  {
   "cell_type": "markdown",
   "metadata": {},
   "source": [
    "## Papers File\n",
    "\n",
    "`pid_to_info_all.json`"
   ]
  },
  {
   "cell_type": "code",
   "execution_count": 5,
   "metadata": {},
   "outputs": [],
   "source": [
    "papers_path: str = 'IND-WhoIsWho/pid_to_info_all.json'\n",
    "\n",
    "papers: dict = load_data(papers_path)"
   ]
  },
  {
   "cell_type": "markdown",
   "metadata": {},
   "source": [
    "### Data Structure\n",
    "\n",
    "#### Overall Structure\n",
    "\n",
    "```Python\n",
    "dict[\n",
    "    \"id\": dict[                         # ID (unique) of paper\n",
    "        \"id\": str,                      # same ID as above\n",
    "        \"title\": str,                   # title of paper\n",
    "        \"authors\": list[dict[           # list of dicts containing \n",
    "            \"name\": str, \"org\": str]],  # author name (nonunique) and org\n",
    "        \"abstract\": str,                # paper abstract (long str)\n",
    "        \"keywords\": list[str],          # list of paper keywords\n",
    "        \"venue\": str,                   # name of publishing venue\n",
    "        \"year\": int                     # year of publication (int)\n",
    "    ]\n",
    "]\n",
    "```\n",
    "\n",
    "<!-- #### Example Entry\n",
    "\n",
    "```Python\n",
    "\"6IsfnuWU\": {\n",
    "        \"id\": \"6IsfnuWU\",\n",
    "        \"title\": \"Probabilistic Skyline Operator over Sliding Windows\",\n",
    "        \"authors\": [\n",
    "            {\"name\": \"Wenjie Zhang\", \"org\": \"UNSW Sydney\"},\n",
    "            ...\n",
    "            {\"name\": \"Jeffrey Xu Yu\", \"org\": \"Chinese University of Hong Kong\"}\n",
    "        ],\n",
    "        \"abstract\": \"Skyline computation ... in real time.\",\n",
    "        \"keywords\": [\n",
    "            \"continuous skyline query\",\n",
    "            ...\n",
    "            \"Sliding Windows\"\n",
    "        ],\n",
    "        \"venue\": \"ICDE '09 Proceedings ... on Data Engineering\",\n",
    "        \"year\": 2009\n",
    "},\n",
    "``` -->"
   ]
  },
  {
   "cell_type": "code",
   "execution_count": 7,
   "metadata": {},
   "outputs": [
    {
     "name": "stdout",
     "output_type": "stream",
     "text": [
      "Number of unique IDs: 317302\n",
      "Number of unique Inner IDs: 317302\n",
      "Number of unique Titles: 300855\n",
      "Number of unique Author Names: 732944\n",
      "Number of unique Organizations: 319572\n"
     ]
    }
   ],
   "source": [
    "id_set = set()\n",
    "inner_id_set = set()\n",
    "title_set = set()\n",
    "author_name_set = set()\n",
    "author_org_set = set()\n",
    "\n",
    "for paper_id, data in papers.items():\n",
    "    id_set.add(paper_id)\n",
    "    inner_id_set.add(data.get('id'))\n",
    "    title_set.add(data.get('title'))\n",
    "    for author in data.get('authors'):\n",
    "        author_name_set.add(author.get('name'))\n",
    "        author_org_set.add(author.get('org'))\n",
    "\n",
    "print(\n",
    "    f'Number of unique IDs: {len(id_set)}',\n",
    "    f'Number of unique Inner IDs: {len(inner_id_set)}',\n",
    "    f'Number of unique Titles: {len(title_set)}',\n",
    "    f'Number of unique Author Names: {len(author_name_set)}',\n",
    "    f'Number of unique Organizations: {len(author_org_set)}',\n",
    "    sep='\\n'\n",
    ")"
   ]
  },
  {
   "cell_type": "code",
   "execution_count": 23,
   "metadata": {},
   "outputs": [
    {
     "name": "stdout",
     "output_type": "stream",
     "text": [
      "Number of unique author names in author file: 756\n",
      "Number of unique author names in paper file: 732944\n",
      "Number of unique author names in both files: 612\n"
     ]
    }
   ],
   "source": [
    "shared_name_set = name_set & author_name_set\n",
    "\n",
    "print(\n",
    "    f'Number of unique author names in author file: {len(name_set)}',\n",
    "    f'Number of unique author names in paper file: {len(author_name_set)}',\n",
    "    f'Number of unique author names in both files: {\n",
    "        len(shared_name_set)\n",
    "    }',\n",
    "    sep='\\n'\n",
    ")"
   ]
  }
 ],
 "metadata": {
  "kernelspec": {
   "display_name": "cs145",
   "language": "python",
   "name": "python3"
  },
  "language_info": {
   "codemirror_mode": {
    "name": "ipython",
    "version": 3
   },
   "file_extension": ".py",
   "mimetype": "text/x-python",
   "name": "python",
   "nbconvert_exporter": "python",
   "pygments_lexer": "ipython3",
   "version": "3.12.2"
  }
 },
 "nbformat": 4,
 "nbformat_minor": 2
}
